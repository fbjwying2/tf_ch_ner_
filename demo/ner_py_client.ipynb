{
 "cells": [
  {
   "cell_type": "code",
   "execution_count": 1,
   "metadata": {
    "ExecuteTime": {
     "end_time": "2018-11-06T09:45:36.142444Z",
     "start_time": "2018-11-06T09:45:36.128481Z"
    },
    "collapsed": false
   },
   "outputs": [],
   "source": [
    "#!/usr/bin/env python\n",
    "\n",
    "from socket import *\n",
    "\n",
    "def raw_input(text):\n",
    "    return text.encode()\n",
    "\n",
    "HOST = \"127.0.0.1\"\n",
    "PORT = 21567\n",
    "BUFSIZ = 1024\n",
    "ADDR = (HOST,PORT)\n",
    "\n",
    "client = socket(AF_INET, SOCK_STREAM)\n",
    "client.connect(ADDR)\n",
    "  \n",
    "def pred(sent):\n",
    "    while True:\n",
    "        data = raw_input(sent)\n",
    "        if not data:\n",
    "            break\n",
    "\n",
    "        client.send(data)\n",
    "\n",
    "        recv_data = client.recv(BUFSIZ).decode()\n",
    "        if not recv_data:\n",
    "            break\n",
    "\n",
    "        print(\"recv data:{}\".format(recv_data))\n",
    "        break\n",
    "        \n"
   ]
  },
  {
   "cell_type": "code",
   "execution_count": 2,
   "metadata": {
    "ExecuteTime": {
     "end_time": "2018-11-06T09:45:39.691004Z",
     "start_time": "2018-11-06T09:45:38.607852Z"
    },
    "collapsed": false
   },
   "outputs": [
    {
     "name": "stdout",
     "output_type": "stream",
     "text": [
      "recv data:[{'sent': '佛山在哪里办理公积金', 'result': {'LOC': {'佛山': 1}}}] ner predict:Tue Nov  6 09:45:39 2018 time:1.07517409324646s\n"
     ]
    }
   ],
   "source": [
    "sent = \"佛山在哪里办理公积金\"\n",
    "pred(sent)"
   ]
  },
  {
   "cell_type": "code",
   "execution_count": 8,
   "metadata": {
    "ExecuteTime": {
     "end_time": "2018-10-24T16:34:08.762231Z",
     "start_time": "2018-10-24T16:34:08.757247Z"
    },
    "collapsed": true
   },
   "outputs": [],
   "source": [
    "client.close()"
   ]
  }
 ],
 "metadata": {
  "kernelspec": {
   "display_name": "Python 3",
   "language": "python",
   "name": "python3"
  },
  "language_info": {
   "codemirror_mode": {
    "name": "ipython",
    "version": 3
   },
   "file_extension": ".py",
   "mimetype": "text/x-python",
   "name": "python",
   "nbconvert_exporter": "python",
   "pygments_lexer": "ipython3",
   "version": "3.5.2"
  },
  "toc": {
   "base_numbering": 1,
   "nav_menu": {},
   "number_sections": true,
   "sideBar": true,
   "skip_h1_title": false,
   "title_cell": "Table of Contents",
   "title_sidebar": "Contents",
   "toc_cell": false,
   "toc_position": {},
   "toc_section_display": true,
   "toc_window_display": false
  }
 },
 "nbformat": 4,
 "nbformat_minor": 2
}
